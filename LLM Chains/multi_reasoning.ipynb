{
 "cells": [
  {
   "cell_type": "code",
   "execution_count": 1,
   "metadata": {},
   "outputs": [],
   "source": [
    "from dotenv import load_dotenv\n",
    "import os\n"
   ]
  },
  {
   "cell_type": "markdown",
   "metadata": {},
   "source": [
    "### Step 1 - Building Jekyll Prompt"
   ]
  },
  {
   "cell_type": "code",
   "execution_count": 7,
   "metadata": {},
   "outputs": [
    {
     "name": "stdout",
     "output_type": "stream",
     "text": [
      "Jekyll prompt:\n",
      "You are a social media post commenter, you will respond to the following post with a mean response.\n",
      "Post:\" I can't believe I'm learning about LangChain, there is so much to learn and so far I'm having a lot of fun learning! #AI #GenerativeAI\"\n",
      "Comment:\n",
      "\n"
     ]
    }
   ],
   "source": [
    "# Let's start with the prompt template\n",
    "\n",
    "from langchain import PromptTemplate\n",
    "import numpy as np\n",
    "\n",
    "\n",
    "# Jeykll template will instruct it on how it should respond, and what variables (using the {text} syntax) it should use.\n",
    "jekyll_template = \"\"\"\n",
    "You are a social media post commenter, you will respond to the following post with a {sentiment} response.\n",
    "Post:\" {social_post}\"\n",
    "Comment:\n",
    "\"\"\"\n",
    "\n",
    "# We use the PromptTemplate class t create an instance of our template that we will use the prompt from above\n",
    "# store varables we will need to input when we make the prompt.\n",
    "\n",
    "jekyll_prompt_template = PromptTemplate(\n",
    "    input_variables=[\"social_post\", \"sentiment\"],\n",
    "    template=jekyll_template,\n",
    ")\n",
    "\n",
    "# Let's generate the randomized sentiment.\n",
    "random_sentiment = \"nice\"\n",
    "if np.random.rand() < 0.3:\n",
    "    random_sentiment = \"mean\"\n",
    "\n",
    "# We will also need our social media post:\n",
    "social_post = \"I can't believe I'm learning about LangChain, there is so much to learn and so far I'm having a lot of fun learning! #AI #GenerativeAI\"\n",
    "\n",
    "# Let's create the prompt and print it out, this will be given to the LLM.\n",
    "jekyll_prompt = jekyll_prompt_template.format(\n",
    "    sentiment=random_sentiment, social_post=social_post\n",
    ")\n",
    "\n",
    "print(f\"Jekyll prompt:{jekyll_prompt}\")\n"
   ]
  },
  {
   "cell_type": "code",
   "execution_count": null,
   "metadata": {},
   "outputs": [],
   "source": []
  }
 ],
 "metadata": {
  "kernelspec": {
   "display_name": "Python 3",
   "language": "python",
   "name": "python3"
  },
  "language_info": {
   "codemirror_mode": {
    "name": "ipython",
    "version": 3
   },
   "file_extension": ".py",
   "mimetype": "text/x-python",
   "name": "python",
   "nbconvert_exporter": "python",
   "pygments_lexer": "ipython3",
   "version": "3.10.14"
  }
 },
 "nbformat": 4,
 "nbformat_minor": 2
}
